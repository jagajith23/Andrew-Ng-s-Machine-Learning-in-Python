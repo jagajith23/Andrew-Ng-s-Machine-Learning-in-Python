{
 "cells": [
  {
   "cell_type": "code",
   "execution_count": 1,
   "id": "573e2c53",
   "metadata": {},
   "outputs": [],
   "source": [
    "import numpy as np\n",
    "import pandas as pd\n",
    "import matplotlib.pyplot as plt"
   ]
  },
  {
   "cell_type": "markdown",
   "id": "914335d9",
   "metadata": {},
   "source": [
    "# **Linear Regression on Single Variable**"
   ]
  },
  {
   "cell_type": "code",
   "execution_count": 2,
   "id": "ed65ab9e",
   "metadata": {},
   "outputs": [
    {
     "data": {
      "text/html": [
       "<div>\n",
       "<style scoped>\n",
       "    .dataframe tbody tr th:only-of-type {\n",
       "        vertical-align: middle;\n",
       "    }\n",
       "\n",
       "    .dataframe tbody tr th {\n",
       "        vertical-align: top;\n",
       "    }\n",
       "\n",
       "    .dataframe thead th {\n",
       "        text-align: right;\n",
       "    }\n",
       "</style>\n",
       "<table border=\"1\" class=\"dataframe\">\n",
       "  <thead>\n",
       "    <tr style=\"text-align: right;\">\n",
       "      <th></th>\n",
       "      <th>0</th>\n",
       "      <th>1</th>\n",
       "    </tr>\n",
       "  </thead>\n",
       "  <tbody>\n",
       "    <tr>\n",
       "      <th>0</th>\n",
       "      <td>6.1101</td>\n",
       "      <td>17.5920</td>\n",
       "    </tr>\n",
       "    <tr>\n",
       "      <th>1</th>\n",
       "      <td>5.5277</td>\n",
       "      <td>9.1302</td>\n",
       "    </tr>\n",
       "    <tr>\n",
       "      <th>2</th>\n",
       "      <td>8.5186</td>\n",
       "      <td>13.6620</td>\n",
       "    </tr>\n",
       "    <tr>\n",
       "      <th>3</th>\n",
       "      <td>7.0032</td>\n",
       "      <td>11.8540</td>\n",
       "    </tr>\n",
       "    <tr>\n",
       "      <th>4</th>\n",
       "      <td>5.8598</td>\n",
       "      <td>6.8233</td>\n",
       "    </tr>\n",
       "  </tbody>\n",
       "</table>\n",
       "</div>"
      ],
      "text/plain": [
       "        0        1\n",
       "0  6.1101  17.5920\n",
       "1  5.5277   9.1302\n",
       "2  8.5186  13.6620\n",
       "3  7.0032  11.8540\n",
       "4  5.8598   6.8233"
      ]
     },
     "execution_count": 2,
     "metadata": {},
     "output_type": "execute_result"
    }
   ],
   "source": [
    "data = pd.read_csv('ex1data1.txt', header=None)\n",
    "data.head()"
   ]
  },
  {
   "cell_type": "code",
   "execution_count": 3,
   "id": "b4f4b2cf",
   "metadata": {},
   "outputs": [
    {
     "data": {
      "text/html": [
       "<div>\n",
       "<style scoped>\n",
       "    .dataframe tbody tr th:only-of-type {\n",
       "        vertical-align: middle;\n",
       "    }\n",
       "\n",
       "    .dataframe tbody tr th {\n",
       "        vertical-align: top;\n",
       "    }\n",
       "\n",
       "    .dataframe thead th {\n",
       "        text-align: right;\n",
       "    }\n",
       "</style>\n",
       "<table border=\"1\" class=\"dataframe\">\n",
       "  <thead>\n",
       "    <tr style=\"text-align: right;\">\n",
       "      <th></th>\n",
       "      <th>0</th>\n",
       "      <th>1</th>\n",
       "    </tr>\n",
       "  </thead>\n",
       "  <tbody>\n",
       "    <tr>\n",
       "      <th>count</th>\n",
       "      <td>97.000000</td>\n",
       "      <td>97.000000</td>\n",
       "    </tr>\n",
       "    <tr>\n",
       "      <th>mean</th>\n",
       "      <td>8.159800</td>\n",
       "      <td>5.839135</td>\n",
       "    </tr>\n",
       "    <tr>\n",
       "      <th>std</th>\n",
       "      <td>3.869884</td>\n",
       "      <td>5.510262</td>\n",
       "    </tr>\n",
       "    <tr>\n",
       "      <th>min</th>\n",
       "      <td>5.026900</td>\n",
       "      <td>-2.680700</td>\n",
       "    </tr>\n",
       "    <tr>\n",
       "      <th>25%</th>\n",
       "      <td>5.707700</td>\n",
       "      <td>1.986900</td>\n",
       "    </tr>\n",
       "    <tr>\n",
       "      <th>50%</th>\n",
       "      <td>6.589400</td>\n",
       "      <td>4.562300</td>\n",
       "    </tr>\n",
       "    <tr>\n",
       "      <th>75%</th>\n",
       "      <td>8.578100</td>\n",
       "      <td>7.046700</td>\n",
       "    </tr>\n",
       "    <tr>\n",
       "      <th>max</th>\n",
       "      <td>22.203000</td>\n",
       "      <td>24.147000</td>\n",
       "    </tr>\n",
       "  </tbody>\n",
       "</table>\n",
       "</div>"
      ],
      "text/plain": [
       "               0          1\n",
       "count  97.000000  97.000000\n",
       "mean    8.159800   5.839135\n",
       "std     3.869884   5.510262\n",
       "min     5.026900  -2.680700\n",
       "25%     5.707700   1.986900\n",
       "50%     6.589400   4.562300\n",
       "75%     8.578100   7.046700\n",
       "max    22.203000  24.147000"
      ]
     },
     "execution_count": 3,
     "metadata": {},
     "output_type": "execute_result"
    }
   ],
   "source": [
    "data.describe()"
   ]
  },
  {
   "cell_type": "code",
   "execution_count": 4,
   "id": "c99dfafd",
   "metadata": {},
   "outputs": [
    {
     "data": {
      "text/plain": [
       "Text(0.5, 1.0, 'Profit vs. Population')"
      ]
     },
     "execution_count": 4,
     "metadata": {},
     "output_type": "execute_result"
    },
    {
     "data": {
      "image/png": "[encoded data removed]",
      "text/plain": [
       "<Figure size 432x288 with 1 Axes>"
      ]
     },
     "metadata": {
      "needs_background": "light"
     },
     "output_type": "display_data"
    }
   ],
   "source": [
    "plt.scatter(data[0], data[1], marker=\"x\", c='red', alpha=0.5)\n",
    "plt.xticks(np.arange(5, 30, step=5))\n",
    "plt.yticks(np.arange(-5, 30, step=5))\n",
    "plt.xlabel(\"Population of a city(10,000s)\")\n",
    "plt.ylabel(\"Profit($10,000)\")\n",
    "plt.title(\"Profit vs. Population\")"
   ]
  },
  {
   "cell_type": "markdown",
   "id": "8e672cb1",
   "metadata": {},
   "source": [
    "**COST FUNCTION**\n",
    "\n",
    "$J(\\Theta) = \\frac{1}{2m} \\sum_{i=1}^m (h_\\Theta(x^{(i)}) - y^{(i)} )^2$\n"
   ]
  },
  {
   "cell_type": "code",
   "execution_count": 5,
   "id": "1ed883b8",
   "metadata": {},
   "outputs": [],
   "source": [
    "def compute_cost(X, y, theta):\n",
    "    m = len(y)\n",
    "    h_theta = X.dot(theta)\n",
    "    J = 1/(2*m) * np.sum((h_theta-y)**2)\n",
    "    return J"
   ]
  },
  {
   "cell_type": "code",
   "execution_count": 6,
   "id": "5ddbd667",
   "metadata": {},
   "outputs": [],
   "source": [
    "mod_data = data.values\n",
    "m = len(mod_data[:,-1])\n",
    "X = np.column_stack((np.ones((m, 1)), mod_data[:, 0].reshape(m, 1)))\n",
    "y = mod_data[:, 1].reshape(m, 1)\n",
    "theta = np.zeros((2, 1))\n",
    "\n",
    "iterations = 1500\n",
    "alpha = 0.01"
   ]
  },
  {
   "cell_type": "code",
   "execution_count": 7,
   "id": "3d29c156",
   "metadata": {},
   "outputs": [],
   "source": [
    "J = compute_cost(X, y, theta)"
   ]
  },
  {
   "cell_type": "markdown",
   "id": "19996932",
   "metadata": {},
   "source": [
    "**GRADIENT DESCENT**\n",
    "\n",
    "Minimize the cost function $J(\\Theta)$\n",
    "\n",
    "By updating Equation and repeat unitil convergence\n",
    "\n",
    "$\\Theta_j := \\Theta_j - \\alpha \\frac{1}{m} \\sum_{i=1}^m (h_{\\Theta}(x^{(i)}) - y^{(i)})x_j^{(i)}$ (simultaneously update $\\Theta_j$ for all $j$)"
   ]
  },
  {
   "cell_type": "code",
   "execution_count": 8,
   "id": "654c7bee",
   "metadata": {},
   "outputs": [],
   "source": [
    "def gradientDescent(X, y, theta, alpha, n_iters, graph=True):\n",
    "    m = len(y)\n",
    "    J_history = []\n",
    "    \n",
    "    for i in range(n_iters):\n",
    "        h_theta = X.dot(theta)\n",
    "        err = np.dot(X.T, (h_theta - y))\n",
    "        descent = alpha * 1/m * err\n",
    "        theta -= descent\n",
    "        \n",
    "        J_history.append(compute_cost(X, y, theta))\n",
    "    if graph:\n",
    "        plt.plot(J_history)\n",
    "        plt.xlabel(\"No. of Iterations\")\n",
    "        plt.ylabel(\"J(theta)\")\n",
    "        plt.title(\"Cost function using Gradient Descent\")\n",
    "        \n",
    "    return theta, J_history        "
   ]
  },
  {
   "cell_type": "code",
   "execution_count": 9,
   "id": "ed79ee84",
   "metadata": {},
   "outputs": [
    {
     "name": "stdout",
     "output_type": "stream",
     "text": [
      "h(x)= -3.63 + 1.17 x1\n"
     ]
    },
    {
     "data": {
      "image/png": "[encoded data removed]",
      "text/plain": [
       "<Figure size 432x288 with 1 Axes>"
      ]
     },
     "metadata": {
      "needs_background": "light"
     },
     "output_type": "display_data"
    }
   ],
   "source": [
    "theta, J_history = gradientDescent(X, y, theta, alpha, iterations)\n",
    "print(f\"h(x)= {round(theta[0, 0], 2)} + {round(theta[1, 0], 2)} x1\")"
   ]
  },
  {
   "cell_type": "code",
   "execution_count": 10,
   "id": "2eafe635",
   "metadata": {},
   "outputs": [
    {
     "data": {
      "image/png": "[encoded data removed]",
      "text/plain": [
       "<Figure size 432x288 with 2 Axes>"
      ]
     },
     "metadata": {
      "needs_background": "light"
     },
     "output_type": "display_data"
    }
   ],
   "source": [
    "from mpl_toolkits.mplot3d import Axes3D\n",
    "\n",
    "theta0_vals=np.linspace(-10,10,100)\n",
    "theta1_vals=np.linspace(-1,4,100)\n",
    "J_vals=np.zeros((len(theta0_vals),len(theta1_vals)))\n",
    "\n",
    "for i in range(len(theta0_vals)):\n",
    "    for j in range(len(theta1_vals)):\n",
    "        t=np.array([theta0_vals[i],theta1_vals[j]])\n",
    "        J_vals[i,j]=compute_cost(X,y,t)\n",
    "\n",
    "fig = plt.figure()\n",
    "ax = fig.add_subplot(111, projection='3d')\n",
    "surf=ax.plot_surface(theta0_vals,theta1_vals,J_vals,cmap=\"coolwarm\")\n",
    "fig.colorbar(surf, shrink=0.5, aspect=5)\n",
    "ax.set_xlabel(\"$\\Theta_0$\")\n",
    "ax.set_ylabel(\"$\\Theta_1$\")\n",
    "ax.set_zlabel(\"$J(\\Theta)$\")\n",
    "ax.view_init(30,120)"
   ]
  },
  {
   "cell_type": "code",
   "execution_count": 11,
   "id": "6e252b96",
   "metadata": {},
   "outputs": [
    {
     "data": {
      "text/plain": [
       "Text(0.5, 1.0, 'Profit vs. Population')"
      ]
     },
     "execution_count": 11,
     "metadata": {},
     "output_type": "execute_result"
    },
    {
     "data": {
      "image/png": "[encoded data removed]",
      "text/plain": [
       "<Figure size 432x288 with 1 Axes>"
      ]
     },
     "metadata": {
      "needs_background": "light"
     },
     "output_type": "display_data"
    }
   ],
   "source": [
    "plt.scatter(data[0], data[1], marker=\"x\", c='red', alpha=0.5)\n",
    "x_value = [x for x in range(25)]\n",
    "y_value = [y*theta[1] + theta[0] for y in x_value]\n",
    "plt.plot(x_value, y_value)\n",
    "plt.xticks(np.arange(5, 30, step=5))\n",
    "plt.yticks(np.arange(-5, 30, step=5))\n",
    "plt.xlabel(\"Population of a city(10,000s)\")\n",
    "plt.ylabel(\"Profit($10,000)\")\n",
    "plt.title(\"Profit vs. Population\")"
   ]
  },
  {
   "cell_type": "markdown",
   "id": "00db8338",
   "metadata": {},
   "source": [
    "**PREDICTIONS**\n",
    "\n",
    "Make predictions using the optimized $\\Theta$ values\n",
    "\n",
    "$h_\\Theta(x) = \\Theta^Tx$\n"
   ]
  },
  {
   "cell_type": "code",
   "execution_count": 12,
   "id": "ea36e159",
   "metadata": {},
   "outputs": [],
   "source": [
    "def predict(X, theta):\n",
    "#     predictions = X.dot(theta)\n",
    "    predictions = np.dot(theta.T, X)\n",
    "    return predictions[0]"
   ]
  },
  {
   "cell_type": "code",
   "execution_count": 13,
   "id": "19620469",
   "metadata": {},
   "outputs": [
    {
     "name": "stdout",
     "output_type": "stream",
     "text": [
      "For population=35000, we predict a profit of $4520.0\n"
     ]
    }
   ],
   "source": [
    "predict1 = predict(np.array([1,3.5]),theta)*10000\n",
    "print(f'For population=35000, we predict a profit of ${round(predict1, 0)}')"
   ]
  },
  {
   "cell_type": "code",
   "execution_count": 14,
   "id": "c88898e8",
   "metadata": {},
   "outputs": [
    {
     "name": "stdout",
     "output_type": "stream",
     "text": [
      "For population=70000, we predict a profit of $45342.0\n"
     ]
    }
   ],
   "source": [
    "predict2 = predict(np.array([1,7]),theta)*10000\n",
    "print(f'For population=70000, we predict a profit of ${round(predict2, 0)}')"
   ]
  },
  {
   "cell_type": "markdown",
   "id": "af7eeaca",
   "metadata": {},
   "source": [
    "# **Linear Regression on Multiple Variables**"
   ]
  },
  {
   "cell_type": "code",
   "execution_count": 15,
   "id": "2eb45806",
   "metadata": {},
   "outputs": [
    {
     "data": {
      "text/html": [
       "<div>\n",
       "<style scoped>\n",
       "    .dataframe tbody tr th:only-of-type {\n",
       "        vertical-align: middle;\n",
       "    }\n",
       "\n",
       "    .dataframe tbody tr th {\n",
       "        vertical-align: top;\n",
       "    }\n",
       "\n",
       "    .dataframe thead th {\n",
       "        text-align: right;\n",
       "    }\n",
       "</style>\n",
       "<table border=\"1\" class=\"dataframe\">\n",
       "  <thead>\n",
       "    <tr style=\"text-align: right;\">\n",
       "      <th></th>\n",
       "      <th>0</th>\n",
       "      <th>1</th>\n",
       "      <th>2</th>\n",
       "    </tr>\n",
       "  </thead>\n",
       "  <tbody>\n",
       "    <tr>\n",
       "      <th>0</th>\n",
       "      <td>2104</td>\n",
       "      <td>3</td>\n",
       "      <td>399900</td>\n",
       "    </tr>\n",
       "    <tr>\n",
       "      <th>1</th>\n",
       "      <td>1600</td>\n",
       "      <td>3</td>\n",
       "      <td>329900</td>\n",
       "    </tr>\n",
       "    <tr>\n",
       "      <th>2</th>\n",
       "      <td>2400</td>\n",
       "      <td>3</td>\n",
       "      <td>369000</td>\n",
       "    </tr>\n",
       "    <tr>\n",
       "      <th>3</th>\n",
       "      <td>1416</td>\n",
       "      <td>2</td>\n",
       "      <td>232000</td>\n",
       "    </tr>\n",
       "    <tr>\n",
       "      <th>4</th>\n",
       "      <td>3000</td>\n",
       "      <td>4</td>\n",
       "      <td>539900</td>\n",
       "    </tr>\n",
       "  </tbody>\n",
       "</table>\n",
       "</div>"
      ],
      "text/plain": [
       "      0  1       2\n",
       "0  2104  3  399900\n",
       "1  1600  3  329900\n",
       "2  2400  3  369000\n",
       "3  1416  2  232000\n",
       "4  3000  4  539900"
      ]
     },
     "execution_count": 15,
     "metadata": {},
     "output_type": "execute_result"
    }
   ],
   "source": [
    "house_data = pd.read_csv('ex1data2.txt', header=None)\n",
    "house_data.head()"
   ]
  },
  {
   "cell_type": "code",
   "execution_count": 16,
   "id": "d9ebda11",
   "metadata": {},
   "outputs": [
    {
     "data": {
      "text/html": [
       "<div>\n",
       "<style scoped>\n",
       "    .dataframe tbody tr th:only-of-type {\n",
       "        vertical-align: middle;\n",
       "    }\n",
       "\n",
       "    .dataframe tbody tr th {\n",
       "        vertical-align: top;\n",
       "    }\n",
       "\n",
       "    .dataframe thead th {\n",
       "        text-align: right;\n",
       "    }\n",
       "</style>\n",
       "<table border=\"1\" class=\"dataframe\">\n",
       "  <thead>\n",
       "    <tr style=\"text-align: right;\">\n",
       "      <th></th>\n",
       "      <th>0</th>\n",
       "      <th>1</th>\n",
       "      <th>2</th>\n",
       "    </tr>\n",
       "  </thead>\n",
       "  <tbody>\n",
       "    <tr>\n",
       "      <th>count</th>\n",
       "      <td>47.000000</td>\n",
       "      <td>47.000000</td>\n",
       "      <td>47.000000</td>\n",
       "    </tr>\n",
       "    <tr>\n",
       "      <th>mean</th>\n",
       "      <td>2000.680851</td>\n",
       "      <td>3.170213</td>\n",
       "      <td>340412.659574</td>\n",
       "    </tr>\n",
       "    <tr>\n",
       "      <th>std</th>\n",
       "      <td>794.702354</td>\n",
       "      <td>0.760982</td>\n",
       "      <td>125039.899586</td>\n",
       "    </tr>\n",
       "    <tr>\n",
       "      <th>min</th>\n",
       "      <td>852.000000</td>\n",
       "      <td>1.000000</td>\n",
       "      <td>169900.000000</td>\n",
       "    </tr>\n",
       "    <tr>\n",
       "      <th>25%</th>\n",
       "      <td>1432.000000</td>\n",
       "      <td>3.000000</td>\n",
       "      <td>249900.000000</td>\n",
       "    </tr>\n",
       "    <tr>\n",
       "      <th>50%</th>\n",
       "      <td>1888.000000</td>\n",
       "      <td>3.000000</td>\n",
       "      <td>299900.000000</td>\n",
       "    </tr>\n",
       "    <tr>\n",
       "      <th>75%</th>\n",
       "      <td>2269.000000</td>\n",
       "      <td>4.000000</td>\n",
       "      <td>384450.000000</td>\n",
       "    </tr>\n",
       "    <tr>\n",
       "      <th>max</th>\n",
       "      <td>4478.000000</td>\n",
       "      <td>5.000000</td>\n",
       "      <td>699900.000000</td>\n",
       "    </tr>\n",
       "  </tbody>\n",
       "</table>\n",
       "</div>"
      ],
      "text/plain": [
       "                 0          1              2\n",
       "count    47.000000  47.000000      47.000000\n",
       "mean   2000.680851   3.170213  340412.659574\n",
       "std     794.702354   0.760982  125039.899586\n",
       "min     852.000000   1.000000  169900.000000\n",
       "25%    1432.000000   3.000000  249900.000000\n",
       "50%    1888.000000   3.000000  299900.000000\n",
       "75%    2269.000000   4.000000  384450.000000\n",
       "max    4478.000000   5.000000  699900.000000"
      ]
     },
     "execution_count": 16,
     "metadata": {},
     "output_type": "execute_result"
    }
   ],
   "source": [
    "house_data.describe()"
   ]
  },
  {
   "cell_type": "code",
   "execution_count": 17,
   "id": "bf604ca4",
   "metadata": {},
   "outputs": [
    {
     "data": {
      "text/plain": [
       "(47, 3)"
      ]
     },
     "execution_count": 17,
     "metadata": {},
     "output_type": "execute_result"
    }
   ],
   "source": [
    "house_data.shape"
   ]
  },
  {
   "cell_type": "code",
   "execution_count": 18,
   "id": "78e5bf94",
   "metadata": {},
   "outputs": [],
   "source": [
    "mod_house_data = house_data.values"
   ]
  },
  {
   "cell_type": "code",
   "execution_count": 19,
   "id": "7469107f",
   "metadata": {},
   "outputs": [],
   "source": [
    "m2 = len(mod_house_data[:, 2])\n",
    "X2 = mod_house_data[:, :2].reshape(m2, 2)\n",
    "y2 = mod_house_data[:, 2].reshape(m2, 1)"
   ]
  },
  {
   "cell_type": "markdown",
   "id": "4edea33e",
   "metadata": {},
   "source": [
    "**FEATURE SCALING**\n",
    "\n",
    "To make sure features are on a similar scale:\n",
    "\n",
    "$x_i = \\frac{x_i - \\mu_i}{\\sigma_i}$\n"
   ]
  },
  {
   "cell_type": "code",
   "execution_count": 20,
   "id": "9b10717d",
   "metadata": {},
   "outputs": [],
   "source": [
    "def featureNormalize(X):\n",
    "    mean = np.mean(X, axis=0)\n",
    "    std = np.std(X, axis=0)\n",
    "    \n",
    "    X_norm = (X - mean)/std\n",
    "    return X_norm, mean, std"
   ]
  },
  {
   "cell_type": "code",
   "execution_count": 21,
   "id": "ea48039e",
   "metadata": {},
   "outputs": [],
   "source": [
    "X2, mu, sigma = featureNormalize(X2)\n",
    "X2 = np.column_stack((np.ones((m2, 1)), X2))"
   ]
  },
  {
   "cell_type": "code",
   "execution_count": 22,
   "id": "3fa07994",
   "metadata": {},
   "outputs": [],
   "source": [
    "theta2 = np.zeros((3, 1))"
   ]
  },
  {
   "cell_type": "markdown",
   "id": "18a4608b",
   "metadata": {},
   "source": [
    "**Compute Cost $J(\\Theta)$**\n",
    "\n",
    "In the multivariate case, the cost function can also be written in the following vectorized form:\n",
    "\n",
    "$J(\\Theta) = \\frac{1}{2m} (X\\Theta - \\overrightarrow{y})^T (X\\Theta - \\overrightarrow{y})$\n"
   ]
  },
  {
   "cell_type": "code",
   "execution_count": 23,
   "id": "79df2454",
   "metadata": {},
   "outputs": [
    {
     "data": {
      "text/plain": [
       "65591548106.45744"
      ]
     },
     "execution_count": 23,
     "metadata": {},
     "output_type": "execute_result"
    }
   ],
   "source": [
    "compute_cost(X2,y2,theta2)"
   ]
  },
  {
   "cell_type": "code",
   "execution_count": 24,
   "id": "19039294",
   "metadata": {},
   "outputs": [
    {
     "data": {
      "image/png": "[encoded data removed]",
      "text/plain": [
       "<Figure size 432x288 with 1 Axes>"
      ]
     },
     "metadata": {
      "needs_background": "light"
     },
     "output_type": "display_data"
    }
   ],
   "source": [
    "theta2, J_history = gradientDescent(X2, y2, theta2, alpha, iterations)"
   ]
  },
  {
   "cell_type": "markdown",
   "id": "521de6e7",
   "metadata": {},
   "source": [
    "**LEARNING RATE EXPLORATION**"
   ]
  },
  {
   "cell_type": "code",
   "execution_count": 25,
   "id": "c81f2fb8",
   "metadata": {},
   "outputs": [],
   "source": [
    "lr = [0.01, 0.03, 0.09, 0.1, 0.3, 0.9]\n",
    "J_histories = []\n",
    "for x in lr:\n",
    "    theta2, J_history = gradientDescent(X=X2, y=y2, theta=theta2, alpha=x, n_iters=100, graph=False)\n",
    "    J_histories.append(J_history)"
   ]
  },
  {
   "cell_type": "code",
   "execution_count": 26,
   "id": "0f34eec7",
   "metadata": {},
   "outputs": [
    {
     "data": {
      "text/plain": [
       "<matplotlib.legend.Legend at 0x26f7f3ae1f0>"
      ]
     },
     "execution_count": 26,
     "metadata": {},
     "output_type": "execute_result"
    },
    {
     "data": {
      "image/png": "[encoded data removed]",
      "text/plain": [
       "<Figure size 432x288 with 1 Axes>"
      ]
     },
     "metadata": {
      "needs_background": "light"
     },
     "output_type": "display_data"
    }
   ],
   "source": [
    "len_J = len(J_histories[0])\n",
    "for x in range(len(lr)):\n",
    "    plt.plot(J_histories[x], label=lr[x])\n",
    "plt.xlabel(\"No. of Iterations\")\n",
    "plt.ylabel(\"J(theta)\")\n",
    "plt.title(\"Cost function using Gradient Descent\")\n",
    "plt.title('Learning rates')\n",
    "plt.legend(loc=1)"
   ]
  },
  {
   "cell_type": "markdown",
   "id": "2fa6e338",
   "metadata": {},
   "source": [
    "**PREDICTIONS**"
   ]
  },
  {
   "cell_type": "code",
   "execution_count": 27,
   "id": "77b2618f",
   "metadata": {},
   "outputs": [
    {
     "name": "stdout",
     "output_type": "stream",
     "text": [
      "For size of house = 1650, Number of bedroom = 3, we predict a house value of $456439.0\n"
     ]
    }
   ],
   "source": [
    "x_sample = featureNormalize(np.array([1650, 3]))[0]\n",
    "x_sample = np.append(np.ones(1),x_sample)\n",
    "predict3 = predict(x_sample, theta2)\n",
    "print(f\"For size of house = 1650, Number of bedroom = 3, we predict a house value of ${round(predict3,0)}\")"
   ]
  },
  {
   "cell_type": "code",
   "execution_count": 28,
   "id": "5c8b292f",
   "metadata": {},
   "outputs": [],
   "source": [
    "# X3 = mod_house_data[:, :2].reshape(m2, 2)\n",
    "# X3 = np.column_stack((np.ones((m2, 1)), X3))"
   ]
  },
  {
   "cell_type": "code",
   "execution_count": 29,
   "id": "c59290c5",
   "metadata": {},
   "outputs": [],
   "source": [
    "# def NormalEqn(X, y):\n",
    "# #     xtx = np.linalg.inv(np.dot(X.T, X))\n",
    "# #     xty = np.dot(X.T, y)\n",
    "# #     theta3 = np.dot(xtx, xty)\n",
    "#     theta3 = np.linalg.inv(X.T.dot(X)).dot((X.T).dot(y))\n",
    "#     theta3 = np.dot(np.linalg.inv(np.dot(X.T, X)), (np.dot(X.T ,y)))\n",
    "#     return theta3"
   ]
  },
  {
   "cell_type": "code",
   "execution_count": 30,
   "id": "5edf3f45",
   "metadata": {},
   "outputs": [],
   "source": [
    "# theta3 = NormalEqn(X3, y2)"
   ]
  },
  {
   "cell_type": "code",
   "execution_count": 31,
   "id": "71224bac",
   "metadata": {},
   "outputs": [],
   "source": [
    "# x_s = np.array([1650, 3])\n",
    "# x_s = np.append(np.ones(1), x_s)\n",
    "# predict4 = predict(x_s, theta3)\n",
    "# print(f\"For size of house = 1650, Number of bedroom = 3, we predict a house value of ${round(predict4,0)}\")"
   ]
  },
  {
   "cell_type": "code",
   "execution_count": 32,
   "id": "8e704656",
   "metadata": {},
   "outputs": [],
   "source": [
    "# print(theta2)\n",
    "# print(theta3)"
   ]
  },
  {
   "cell_type": "code",
   "execution_count": 33,
   "id": "549d3667",
   "metadata": {},
   "outputs": [],
   "source": [
    "# print(X3[:5],\"\\n\", X2[:5])"
   ]
  }
 ],
 "metadata": {
  "kernelspec": {
   "display_name": "Python 3",
   "language": "python",
   "name": "python3"
  },
  "language_info": {
   "codemirror_mode": {
    "name": "ipython",
    "version": 3
   },
   "file_extension": ".py",
   "mimetype": "text/x-python",
   "name": "python",
   "nbconvert_exporter": "python",
   "pygments_lexer": "ipython3",
   "version": "3.9.4"
  }
 },
 "nbformat": 4,
 "nbformat_minor": 5
}
