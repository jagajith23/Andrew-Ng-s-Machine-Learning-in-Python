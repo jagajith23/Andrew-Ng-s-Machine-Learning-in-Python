{
 "cells": [
  {
   "cell_type": "code",
   "execution_count": 1,
   "id": "f34ce96f",
   "metadata": {},
   "outputs": [],
   "source": [
    "import numpy as np\n",
    "import pandas as pd\n",
    "import matplotlib.pyplot as plt"
   ]
  },
  {
   "cell_type": "markdown",
   "id": "f6c7316c",
   "metadata": {},
   "source": [
    "# **LOGISTIC REGRESSION**"
   ]
  },
  {
   "cell_type": "code",
   "execution_count": 2,
   "id": "768eda7c",
   "metadata": {},
   "outputs": [
    {
     "data": {
      "text/html": [
       "<div>\n",
       "<style scoped>\n",
       "    .dataframe tbody tr th:only-of-type {\n",
       "        vertical-align: middle;\n",
       "    }\n",
       "\n",
       "    .dataframe tbody tr th {\n",
       "        vertical-align: top;\n",
       "    }\n",
       "\n",
       "    .dataframe thead th {\n",
       "        text-align: right;\n",
       "    }\n",
       "</style>\n",
       "<table border=\"1\" class=\"dataframe\">\n",
       "  <thead>\n",
       "    <tr style=\"text-align: right;\">\n",
       "      <th></th>\n",
       "      <th>0</th>\n",
       "      <th>1</th>\n",
       "      <th>2</th>\n",
       "    </tr>\n",
       "  </thead>\n",
       "  <tbody>\n",
       "    <tr>\n",
       "      <th>0</th>\n",
       "      <td>34.623660</td>\n",
       "      <td>78.024693</td>\n",
       "      <td>0</td>\n",
       "    </tr>\n",
       "    <tr>\n",
       "      <th>1</th>\n",
       "      <td>30.286711</td>\n",
       "      <td>43.894998</td>\n",
       "      <td>0</td>\n",
       "    </tr>\n",
       "    <tr>\n",
       "      <th>2</th>\n",
       "      <td>35.847409</td>\n",
       "      <td>72.902198</td>\n",
       "      <td>0</td>\n",
       "    </tr>\n",
       "    <tr>\n",
       "      <th>3</th>\n",
       "      <td>60.182599</td>\n",
       "      <td>86.308552</td>\n",
       "      <td>1</td>\n",
       "    </tr>\n",
       "    <tr>\n",
       "      <th>4</th>\n",
       "      <td>79.032736</td>\n",
       "      <td>75.344376</td>\n",
       "      <td>1</td>\n",
       "    </tr>\n",
       "  </tbody>\n",
       "</table>\n",
       "</div>"
      ],
      "text/plain": [
       "           0          1  2\n",
       "0  34.623660  78.024693  0\n",
       "1  30.286711  43.894998  0\n",
       "2  35.847409  72.902198  0\n",
       "3  60.182599  86.308552  1\n",
       "4  79.032736  75.344376  1"
      ]
     },
     "execution_count": 2,
     "metadata": {},
     "output_type": "execute_result"
    }
   ],
   "source": [
    "data = pd.read_csv(\"ex2data1.txt\", header=None)\n",
    "data.head()"
   ]
  },
  {
   "cell_type": "code",
   "execution_count": 3,
   "id": "f37d2ff7",
   "metadata": {},
   "outputs": [
    {
     "data": {
      "text/html": [
       "<div>\n",
       "<style scoped>\n",
       "    .dataframe tbody tr th:only-of-type {\n",
       "        vertical-align: middle;\n",
       "    }\n",
       "\n",
       "    .dataframe tbody tr th {\n",
       "        vertical-align: top;\n",
       "    }\n",
       "\n",
       "    .dataframe thead th {\n",
       "        text-align: right;\n",
       "    }\n",
       "</style>\n",
       "<table border=\"1\" class=\"dataframe\">\n",
       "  <thead>\n",
       "    <tr style=\"text-align: right;\">\n",
       "      <th></th>\n",
       "      <th>0</th>\n",
       "      <th>1</th>\n",
       "      <th>2</th>\n",
       "    </tr>\n",
       "  </thead>\n",
       "  <tbody>\n",
       "    <tr>\n",
       "      <th>count</th>\n",
       "      <td>100.000000</td>\n",
       "      <td>100.000000</td>\n",
       "      <td>100.000000</td>\n",
       "    </tr>\n",
       "    <tr>\n",
       "      <th>mean</th>\n",
       "      <td>65.644274</td>\n",
       "      <td>66.221998</td>\n",
       "      <td>0.600000</td>\n",
       "    </tr>\n",
       "    <tr>\n",
       "      <th>std</th>\n",
       "      <td>19.458222</td>\n",
       "      <td>18.582783</td>\n",
       "      <td>0.492366</td>\n",
       "    </tr>\n",
       "    <tr>\n",
       "      <th>min</th>\n",
       "      <td>30.058822</td>\n",
       "      <td>30.603263</td>\n",
       "      <td>0.000000</td>\n",
       "    </tr>\n",
       "    <tr>\n",
       "      <th>25%</th>\n",
       "      <td>50.919511</td>\n",
       "      <td>48.179205</td>\n",
       "      <td>0.000000</td>\n",
       "    </tr>\n",
       "    <tr>\n",
       "      <th>50%</th>\n",
       "      <td>67.032988</td>\n",
       "      <td>67.682381</td>\n",
       "      <td>1.000000</td>\n",
       "    </tr>\n",
       "    <tr>\n",
       "      <th>75%</th>\n",
       "      <td>80.212529</td>\n",
       "      <td>79.360605</td>\n",
       "      <td>1.000000</td>\n",
       "    </tr>\n",
       "    <tr>\n",
       "      <th>max</th>\n",
       "      <td>99.827858</td>\n",
       "      <td>98.869436</td>\n",
       "      <td>1.000000</td>\n",
       "    </tr>\n",
       "  </tbody>\n",
       "</table>\n",
       "</div>"
      ],
      "text/plain": [
       "                0           1           2\n",
       "count  100.000000  100.000000  100.000000\n",
       "mean    65.644274   66.221998    0.600000\n",
       "std     19.458222   18.582783    0.492366\n",
       "min     30.058822   30.603263    0.000000\n",
       "25%     50.919511   48.179205    0.000000\n",
       "50%     67.032988   67.682381    1.000000\n",
       "75%     80.212529   79.360605    1.000000\n",
       "max     99.827858   98.869436    1.000000"
      ]
     },
     "execution_count": 3,
     "metadata": {},
     "output_type": "execute_result"
    }
   ],
   "source": [
    "data.describe()"
   ]
  },
  {
   "cell_type": "code",
   "execution_count": 4,
   "id": "657b62b8",
   "metadata": {},
   "outputs": [],
   "source": [
    "X = data.values[:, :-1]\n",
    "y = data.values[:, -1]"
   ]
  },
  {
   "cell_type": "code",
   "execution_count": 5,
   "id": "09c35f8b",
   "metadata": {},
   "outputs": [],
   "source": [
    "pos, neg = (y==1).reshape(100, 1), (y==0).reshape(100, 1)"
   ]
  },
  {
   "cell_type": "code",
   "execution_count": 6,
   "id": "e4229446",
   "metadata": {},
   "outputs": [
    {
     "data": {
      "text/plain": [
       "<matplotlib.legend.Legend at 0x16bfb9ae910>"
      ]
     },
     "execution_count": 6,
     "metadata": {},
     "output_type": "execute_result"
    },
    {
     "data": {
      "image/png": "[encoded data removed]",
      "text/plain": [
       "<Figure size 432x288 with 1 Axes>"
      ]
     },
     "metadata": {
      "needs_background": "light"
     },
     "output_type": "display_data"
    }
   ],
   "source": [
    "plt.scatter(X[pos[:, 0], 0], X[pos[:, 0], 1], c='r', marker='+', label=\"Admitted\")\n",
    "plt.scatter(X[neg[:, 0], 0], X[neg[:, 0], 1], marker='o', label=\"Not Admitted\", s=10)\n",
    "plt.xlabel(\"Exam1 Score\")\n",
    "plt.ylabel(\"Exam2 Score\")\n",
    "plt.legend(loc=0)"
   ]
  },
  {
   "cell_type": "markdown",
   "id": "5e5eebdc",
   "metadata": {},
   "source": [
    "**SIGMOID FUNCTION**\n",
    "\n",
    "$ g(z) = \\frac{1}{(1+e^{-z})}$\n"
   ]
  },
  {
   "cell_type": "code",
   "execution_count": 7,
   "id": "4ffe4d38",
   "metadata": {},
   "outputs": [],
   "source": [
    "# from scipy.special import expit\n",
    "def sigmoid(z):\n",
    "    return 1 / (1 + np.exp(-z))\n",
    "#     return expit(z)"
   ]
  },
  {
   "cell_type": "code",
   "execution_count": 8,
   "id": "7e277b8d",
   "metadata": {},
   "outputs": [
    {
     "name": "stdout",
     "output_type": "stream",
     "text": [
      "0.5\n",
      "0.9999546021312976\n",
      "0.7310585786300049\n"
     ]
    }
   ],
   "source": [
    "print(sigmoid(0))\n",
    "print(sigmoid(10))\n",
    "print(sigmoid(1))"
   ]
  },
  {
   "cell_type": "markdown",
   "id": "bc28bf95",
   "metadata": {},
   "source": [
    "**COST FUNCTION**\n",
    "\n",
    "$J(\\Theta) = \\frac{1}{m} \\sum_{i=1}^{m} [ -y^{(i)}log(h_{\\Theta}(x^{(i)})) - (1 - y^{(i)})log(1 - (h_{\\Theta}(x^{(i)}))]$\n",
    "\n",
    "$ \\frac{\\partial J(\\Theta)}{\\partial \\Theta_j} = \\frac{1}{m} \\sum_{i=1}^{m} (h_{\\Theta}(x^{(i)}) - y^{(i)})x_j^{(i)}$\n"
   ]
  },
  {
   "cell_type": "code",
   "execution_count": 9,
   "id": "2ba3843c",
   "metadata": {},
   "outputs": [],
   "source": [
    "def Costfunction(X, y, theta):\n",
    "    m=len(y)\n",
    "    \n",
    "    h_theta = sigmoid(X@theta)\n",
    "    y_pos = -y.T @ np.log(h_theta) #y_pos = (-y * np.log(predictions)) \n",
    "    y_neg = (1-y).T @ np.log(1-h_theta) #y_neg = ((1-y)*np.log(1-predictions))\n",
    "    error = y_pos - y_neg #error = y_pos - y_neg *This gives array of values as output*\n",
    "    \n",
    "    cost = 1/m * sum(error)\n",
    "    grad = 1/m * (X.T@(h_theta - y))\n",
    "    \n",
    "    return cost[0] , grad"
   ]
  },
  {
   "cell_type": "markdown",
   "id": "dc1d5567",
   "metadata": {},
   "source": [
    "**FEATURE SCALING**"
   ]
  },
  {
   "cell_type": "code",
   "execution_count": 10,
   "id": "93105426",
   "metadata": {},
   "outputs": [],
   "source": [
    "def featureNormalization(X):\n",
    "    mu = np.mean(X, axis=0)\n",
    "    sigma = np.std(X, axis=0)\n",
    "    X_Norm = (X - mu)/sigma\n",
    "    return X_Norm, mu, sigma"
   ]
  },
  {
   "cell_type": "code",
   "execution_count": 11,
   "id": "07ceb7af",
   "metadata": {},
   "outputs": [
    {
     "name": "stdout",
     "output_type": "stream",
     "text": [
      "Cost of initial theta is 0.6931471805599453\n",
      "Gradient at initial theta (zeros): [[-0.1       ]\n",
      " [-0.28122914]\n",
      " [-0.25098615]]\n"
     ]
    }
   ],
   "source": [
    "m, n = X.shape\n",
    "X, mu, sigma = featureNormalization(X)\n",
    "X = np.column_stack((np.ones((m, 1)), X))\n",
    "y = y.reshape(m, 1)\n",
    "initial_theta = np.zeros((n+1, 1))\n",
    "cost, grad= Costfunction(X, y, initial_theta)\n",
    "print(\"Cost of initial theta is\", cost)\n",
    "print(\"Gradient at initial theta (zeros):\", grad)"
   ]
  },
  {
   "cell_type": "markdown",
   "id": "50a3aa2f",
   "metadata": {},
   "source": [
    "**GRADIENT DESCENT**"
   ]
  },
  {
   "cell_type": "code",
   "execution_count": 12,
   "id": "7cc8ccff",
   "metadata": {},
   "outputs": [],
   "source": [
    "def gradientDescent(X, y, theta, alpha, n_iters):\n",
    "    m=len(y)\n",
    "    J_history =[]\n",
    "    \n",
    "    for i in range(n_iters):\n",
    "        cost, grad = Costfunction(X, y, theta)\n",
    "        theta = theta - (alpha * grad)\n",
    "        J_history.append(cost)\n",
    "    return theta, J_history"
   ]
  },
  {
   "cell_type": "code",
   "execution_count": 13,
   "id": "789e9de5",
   "metadata": {},
   "outputs": [],
   "source": [
    "theta, J_history = gradientDescent(X=X, y=y, theta=initial_theta, alpha=1, n_iters=400)"
   ]
  },
  {
   "cell_type": "markdown",
   "id": "c903cb61",
   "metadata": {},
   "source": [
    "**Plotting the decision boundary**\n",
    "\n",
    "From Machine Learning Resources:\n",
    "\n",
    "$h_\\Theta(x) = g(z)$, where g is the sigmoid function and $z = \\Theta^Tx$\n",
    "\n",
    "Since $h_\\Theta(x) \\geq 0.5$ is interpreted as predicting class \"1\", $g(\\Theta^Tx) \\geq 0.5$ or $\\Theta^Tx \\geq 0$ predict class \"1\"\n",
    "\n",
    "$\\Theta_1 + \\Theta_2x_2 + \\Theta_3x_3 = 0$ is the decision boundary\n",
    "\n",
    "Since, we plot $x_2$ against $x_3$, the boundary line will be the equation $ x_3 = \\frac{-(\\Theta_1+\\Theta_2x_2)}{\\Theta_3}$\n"
   ]
  },
  {
   "cell_type": "code",
   "execution_count": 14,
   "id": "1e57e2e5",
   "metadata": {},
   "outputs": [
    {
     "data": {
      "text/plain": [
       "<matplotlib.legend.Legend at 0x16bf8a883a0>"
      ]
     },
     "execution_count": 14,
     "metadata": {},
     "output_type": "execute_result"
    },
    {
     "data": {
      "image/png": "[encoded data removed]",
      "text/plain": [
       "<Figure size 432x288 with 1 Axes>"
      ]
     },
     "metadata": {
      "needs_background": "light"
     },
     "output_type": "display_data"
    }
   ],
   "source": [
    "plt.scatter(X[pos[:,0],1],X[pos[:,0],2],c=\"r\",marker=\"+\",label=\"Admitted\")\n",
    "plt.scatter(X[neg[:,0],1],X[neg[:,0],2],c=\"b\",marker=\"x\",label=\"Not admitted\")\n",
    "x_value = np.array([np.min(X[:,1]),np.max(X[:,1])])\n",
    "y_value = -(theta[0] +theta[1]*x_value)/theta[2]\n",
    "plt.plot(x_value,y_value, \"r\")\n",
    "plt.xlabel(\"Exam 1 score\")\n",
    "plt.ylabel(\"Exam 2 score\")\n",
    "plt.legend(loc=0)"
   ]
  },
  {
   "cell_type": "markdown",
   "id": "da9a0ff4",
   "metadata": {},
   "source": [
    "**PREDICTIONS**"
   ]
  },
  {
   "cell_type": "code",
   "execution_count": 15,
   "id": "e66b5534",
   "metadata": {},
   "outputs": [
    {
     "name": "stdout",
     "output_type": "stream",
     "text": [
      "For a student with scores 45 and 85, we predict an admission probability of  0.8015327860552117\n"
     ]
    }
   ],
   "source": [
    "x_sample = np.array([45, 85])\n",
    "x_sample = featureNormalization(x_sample)[0]\n",
    "x_sample = np.append(np.ones(1), x_sample)\n",
    "prob = sigmoid(x_sample.dot(theta))\n",
    "print(\"For a student with scores 45 and 85, we predict an admission probability of \",prob[0])"
   ]
  },
  {
   "cell_type": "code",
   "execution_count": 16,
   "id": "9283d733",
   "metadata": {},
   "outputs": [],
   "source": [
    "def predict(X, theta):\n",
    "    p = sigmoid(X@theta) >= 0.37#select your own threshold\n",
    "    return p"
   ]
  },
  {
   "cell_type": "markdown",
   "id": "88228473",
   "metadata": {},
   "source": [
    "**ACCURACY**"
   ]
  },
  {
   "cell_type": "code",
   "execution_count": 17,
   "id": "ad36d26a",
   "metadata": {},
   "outputs": [
    {
     "name": "stdout",
     "output_type": "stream",
     "text": [
      "Train Accuracy: 92 %\n"
     ]
    }
   ],
   "source": [
    "p=predict(X,theta)\n",
    "print(\"Train Accuracy:\", sum(p==y)[0],\"%\")"
   ]
  }
 ],
 "metadata": {
  "kernelspec": {
   "display_name": "Python 3",
   "language": "python",
   "name": "python3"
  },
  "language_info": {
   "codemirror_mode": {
    "name": "ipython",
    "version": 3
   },
   "file_extension": ".py",
   "mimetype": "text/x-python",
   "name": "python",
   "nbconvert_exporter": "python",
   "pygments_lexer": "ipython3",
   "version": "3.9.4"
  }
 },
 "nbformat": 4,
 "nbformat_minor": 5
}
