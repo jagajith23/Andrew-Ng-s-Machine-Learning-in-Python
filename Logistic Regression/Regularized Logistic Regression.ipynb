{
 "cells": [
  {
   "cell_type": "markdown",
   "id": "985ae21b",
   "metadata": {},
   "source": [
    "# **REGULARIZED LOGISTIC REGRESSION**"
   ]
  },
  {
   "cell_type": "code",
   "execution_count": 1,
   "id": "45b7e82a",
   "metadata": {},
   "outputs": [],
   "source": [
    "import pandas as pd\n",
    "import numpy as np\n",
    "import matplotlib.pyplot as plt"
   ]
  },
  {
   "cell_type": "code",
   "execution_count": 2,
   "id": "8d9c17ca",
   "metadata": {},
   "outputs": [
    {
     "data": {
      "text/html": [
       "<div>\n",
       "<style scoped>\n",
       "    .dataframe tbody tr th:only-of-type {\n",
       "        vertical-align: middle;\n",
       "    }\n",
       "\n",
       "    .dataframe tbody tr th {\n",
       "        vertical-align: top;\n",
       "    }\n",
       "\n",
       "    .dataframe thead th {\n",
       "        text-align: right;\n",
       "    }\n",
       "</style>\n",
       "<table border=\"1\" class=\"dataframe\">\n",
       "  <thead>\n",
       "    <tr style=\"text-align: right;\">\n",
       "      <th></th>\n",
       "      <th>0</th>\n",
       "      <th>1</th>\n",
       "      <th>2</th>\n",
       "    </tr>\n",
       "  </thead>\n",
       "  <tbody>\n",
       "    <tr>\n",
       "      <th>0</th>\n",
       "      <td>0.051267</td>\n",
       "      <td>0.69956</td>\n",
       "      <td>1</td>\n",
       "    </tr>\n",
       "    <tr>\n",
       "      <th>1</th>\n",
       "      <td>-0.092742</td>\n",
       "      <td>0.68494</td>\n",
       "      <td>1</td>\n",
       "    </tr>\n",
       "    <tr>\n",
       "      <th>2</th>\n",
       "      <td>-0.213710</td>\n",
       "      <td>0.69225</td>\n",
       "      <td>1</td>\n",
       "    </tr>\n",
       "    <tr>\n",
       "      <th>3</th>\n",
       "      <td>-0.375000</td>\n",
       "      <td>0.50219</td>\n",
       "      <td>1</td>\n",
       "    </tr>\n",
       "    <tr>\n",
       "      <th>4</th>\n",
       "      <td>-0.513250</td>\n",
       "      <td>0.46564</td>\n",
       "      <td>1</td>\n",
       "    </tr>\n",
       "  </tbody>\n",
       "</table>\n",
       "</div>"
      ],
      "text/plain": [
       "          0        1  2\n",
       "0  0.051267  0.69956  1\n",
       "1 -0.092742  0.68494  1\n",
       "2 -0.213710  0.69225  1\n",
       "3 -0.375000  0.50219  1\n",
       "4 -0.513250  0.46564  1"
      ]
     },
     "execution_count": 2,
     "metadata": {},
     "output_type": "execute_result"
    }
   ],
   "source": [
    "data = pd.read_csv('ex2data2.txt', header=None)\n",
    "data.head()"
   ]
  },
  {
   "cell_type": "code",
   "execution_count": 3,
   "id": "eb827c34",
   "metadata": {},
   "outputs": [
    {
     "data": {
      "text/html": [
       "<div>\n",
       "<style scoped>\n",
       "    .dataframe tbody tr th:only-of-type {\n",
       "        vertical-align: middle;\n",
       "    }\n",
       "\n",
       "    .dataframe tbody tr th {\n",
       "        vertical-align: top;\n",
       "    }\n",
       "\n",
       "    .dataframe thead th {\n",
       "        text-align: right;\n",
       "    }\n",
       "</style>\n",
       "<table border=\"1\" class=\"dataframe\">\n",
       "  <thead>\n",
       "    <tr style=\"text-align: right;\">\n",
       "      <th></th>\n",
       "      <th>0</th>\n",
       "      <th>1</th>\n",
       "      <th>2</th>\n",
       "    </tr>\n",
       "  </thead>\n",
       "  <tbody>\n",
       "    <tr>\n",
       "      <th>count</th>\n",
       "      <td>118.000000</td>\n",
       "      <td>118.000000</td>\n",
       "      <td>118.000000</td>\n",
       "    </tr>\n",
       "    <tr>\n",
       "      <th>mean</th>\n",
       "      <td>0.054779</td>\n",
       "      <td>0.183102</td>\n",
       "      <td>0.491525</td>\n",
       "    </tr>\n",
       "    <tr>\n",
       "      <th>std</th>\n",
       "      <td>0.496654</td>\n",
       "      <td>0.519743</td>\n",
       "      <td>0.502060</td>\n",
       "    </tr>\n",
       "    <tr>\n",
       "      <th>min</th>\n",
       "      <td>-0.830070</td>\n",
       "      <td>-0.769740</td>\n",
       "      <td>0.000000</td>\n",
       "    </tr>\n",
       "    <tr>\n",
       "      <th>25%</th>\n",
       "      <td>-0.372120</td>\n",
       "      <td>-0.254385</td>\n",
       "      <td>0.000000</td>\n",
       "    </tr>\n",
       "    <tr>\n",
       "      <th>50%</th>\n",
       "      <td>-0.006336</td>\n",
       "      <td>0.213455</td>\n",
       "      <td>0.000000</td>\n",
       "    </tr>\n",
       "    <tr>\n",
       "      <th>75%</th>\n",
       "      <td>0.478970</td>\n",
       "      <td>0.646563</td>\n",
       "      <td>1.000000</td>\n",
       "    </tr>\n",
       "    <tr>\n",
       "      <th>max</th>\n",
       "      <td>1.070900</td>\n",
       "      <td>1.108900</td>\n",
       "      <td>1.000000</td>\n",
       "    </tr>\n",
       "  </tbody>\n",
       "</table>\n",
       "</div>"
      ],
      "text/plain": [
       "                0           1           2\n",
       "count  118.000000  118.000000  118.000000\n",
       "mean     0.054779    0.183102    0.491525\n",
       "std      0.496654    0.519743    0.502060\n",
       "min     -0.830070   -0.769740    0.000000\n",
       "25%     -0.372120   -0.254385    0.000000\n",
       "50%     -0.006336    0.213455    0.000000\n",
       "75%      0.478970    0.646563    1.000000\n",
       "max      1.070900    1.108900    1.000000"
      ]
     },
     "execution_count": 3,
     "metadata": {},
     "output_type": "execute_result"
    }
   ],
   "source": [
    "data.describe()"
   ]
  },
  {
   "cell_type": "code",
   "execution_count": 4,
   "id": "e33b1681",
   "metadata": {},
   "outputs": [
    {
     "data": {
      "text/plain": [
       "<matplotlib.legend.Legend at 0x1f018dc6910>"
      ]
     },
     "execution_count": 4,
     "metadata": {},
     "output_type": "execute_result"
    },
    {
     "data": {
      "image/png": "[encoded data removed]",
      "text/plain": [
       "<Figure size 432x288 with 1 Axes>"
      ]
     },
     "metadata": {
      "needs_background": "light"
     },
     "output_type": "display_data"
    }
   ],
   "source": [
    "X = data.values[:, :-1]\n",
    "y = data.values[:, -1]\n",
    "\n",
    "m, n = X.shape\n",
    "\n",
    "pos, neg = (y==1).reshape(m, 1), (y==0).reshape(m, 1)\n",
    "\n",
    "plt.scatter(X[pos[:, 0], 0], X[pos[:, 0], 1], marker='o', s=10)\n",
    "plt.scatter(X[neg[:, 0], 0], X[neg[:, 0], 1], c='r', marker='x', alpha=0.5)\n",
    "\n",
    "plt.xlabel(\"Test 1\")\n",
    "plt.ylabel(\"Test 2\")\n",
    "\n",
    "plt.legend([\"Accepted\", \"Rejected\"], loc=0)"
   ]
  },
  {
   "cell_type": "markdown",
   "id": "3d981e61",
   "metadata": {},
   "source": [
    "**FEATURE MAPPING(POLYNOMIAL FEATURES)**\n",
    "with k variables and degrees of n, the number of polynomial terms:\n",
    "\n",
    "$ {k+ n \\choose n}$\n"
   ]
  },
  {
   "cell_type": "code",
   "execution_count": 5,
   "id": "aa98e1b1",
   "metadata": {},
   "outputs": [],
   "source": [
    "def mapFeature(X1, X2, degree):\n",
    "    \n",
    "    m = X1.shape[0]\n",
    "    out = np.ones(m).reshape(m, 1)\n",
    "    for i in range(1, degree+1):\n",
    "        for j in range(i+1):\n",
    "            poly_feature = (X1 ** (i-j) * X2 ** j).reshape(m, 1)\n",
    "            out = np.hstack((out, poly_feature))\n",
    "    return out\n",
    "\n",
    "X = mapFeature(X[:, 0], X[:, 1], 6)"
   ]
  },
  {
   "cell_type": "markdown",
   "id": "ba92b25a",
   "metadata": {},
   "source": [
    "**SIGMOID FUNCTION**"
   ]
  },
  {
   "cell_type": "code",
   "execution_count": 6,
   "id": "9f3f1d0e",
   "metadata": {},
   "outputs": [],
   "source": [
    "def sigmoid(z):\n",
    "    return 1/ (1 + np.exp(-z))"
   ]
  },
  {
   "cell_type": "markdown",
   "id": "cc19bb68",
   "metadata": {},
   "source": [
    "**REGULARIZED COST FUNCTION**\n",
    "\n",
    "$J(\\Theta) = \\frac{1}{m} \\sum_{i=1}^{m} [ -y^{(i)}log(h_{\\Theta}(x^{(i)})) - (1 - y^{(i)})log(1 - (h_{\\Theta}(x^{(i)}))] + \\frac{\\lambda}{2m} \\sum_{j=1}^n \\Theta_j^2$\n",
    "\n",
    "$ \\frac{\\partial J(\\Theta)}{\\partial \\Theta_j} = \\frac{1}{m} \\sum_{i=1}^{m} (h_{\\Theta}(x^{(i)}) - y^{(i)})x_j^{(i)}$ for $j=0$\n",
    "\n",
    "$ \\frac{\\partial J(\\Theta)}{\\partial \\Theta_j} = \\frac{1}{m} \\sum_{i=1}^{m} (h_{\\Theta}(x^{(i)}) - y^{(i)})x_j^{(i)} + \\frac{\\lambda}{m}\\Theta_j$ for $j\\geq 1$\n"
   ]
  },
  {
   "cell_type": "code",
   "execution_count": 7,
   "id": "946005ae",
   "metadata": {},
   "outputs": [],
   "source": [
    "def costFunctionReg(theta, X, y, Lambda):\n",
    "    \n",
    "    m = len(y)\n",
    "    y = y[:, np.newaxis]\n",
    "    \n",
    "    h_theta = sigmoid(X@theta)\n",
    "    y_pos = -y.T @ np.log(h_theta)\n",
    "    y_neg = (1-y).T @ np.log(1-h_theta)\n",
    "    error = y_pos - y_neg\n",
    "    \n",
    "#   ((-y * np.log(h_theta)) - ((1-y)*np.log(1-h_theta)))\n",
    "    \n",
    "    cost = (1/m) * sum(error)\n",
    "    reg = (Lambda/(2*m)) * sum(theta[1:] ** 2)\n",
    "    cost = cost + reg\n",
    "    \n",
    "#   ((1/m) * sum((-y * np.log(h_theta)) - ((1-y)*np.log(1-h_theta))) + (Lambda/(2*m)) * sum(theta ** 2))\n",
    "    J_0 = 1/m * (X.T @ (h_theta - y))[0]\n",
    "    J_1 = 1/m * (X.T @ (h_theta - y))[1:] + (Lambda/m) * theta[1:]\n",
    "    grad = np.vstack((J_0[:,np.newaxis], J_1))\n",
    "    return cost[0], grad"
   ]
  },
  {
   "cell_type": "code",
   "execution_count": 8,
   "id": "b5d73f26",
   "metadata": {},
   "outputs": [
    {
     "name": "stdout",
     "output_type": "stream",
     "text": [
      "Cost at initial theta (zeros): 0.6931471805599454\n"
     ]
    }
   ],
   "source": [
    "m, n = X.shape\n",
    "\n",
    "initial_theta = np.zeros((n, 1))\n",
    "Lambda = 1\n",
    "cost, grad = costFunctionReg(initial_theta, X, y, Lambda)\n",
    "\n",
    "print(\"Cost at initial theta (zeros):\",cost)"
   ]
  },
  {
   "cell_type": "markdown",
   "id": "1eac2129",
   "metadata": {},
   "source": [
    "**GRADIENT DESCENT**"
   ]
  },
  {
   "cell_type": "code",
   "execution_count": 9,
   "id": "1d527967",
   "metadata": {},
   "outputs": [],
   "source": [
    "def gradientDescent(theta, X, y, alpha, Lambda, n_iters):\n",
    "    m = len(y)\n",
    "    J_history = []\n",
    "    \n",
    "    for i in range(n_iters):\n",
    "        cost, grad = costFunctionReg(theta, X, y, Lambda)\n",
    "        theta = theta - (alpha * grad)\n",
    "        J_history.append(cost)\n",
    "    \n",
    "    return theta, J_history"
   ]
  },
  {
   "cell_type": "code",
   "execution_count": 10,
   "id": "d7373bd8",
   "metadata": {},
   "outputs": [
    {
     "name": "stdout",
     "output_type": "stream",
     "text": [
      "The regularized theta using ridge regression:\n",
      " [[ 2.25319932]\n",
      " [ 1.44552306]\n",
      " [ 2.33283911]\n",
      " [-3.57008233]\n",
      " [-2.35002884]\n",
      " [-3.07090829]\n",
      " [ 0.50119267]\n",
      " [-0.88407626]\n",
      " [-0.69606495]\n",
      " [-0.22204243]\n",
      " [-2.69560917]\n",
      " [ 0.04161168]\n",
      " [-1.31573798]\n",
      " [-0.80286232]\n",
      " [-2.23101395]\n",
      " [-0.39638083]\n",
      " [-0.43758167]\n",
      " [ 0.09476652]\n",
      " [-0.69300577]\n",
      " [-0.78996079]\n",
      " [-0.45416815]\n",
      " [-2.01051679]\n",
      " [ 0.16446857]\n",
      " [-0.59855483]\n",
      " [ 0.11471778]\n",
      " [-0.73960173]\n",
      " [-0.52044034]\n",
      " [-1.38532427]]\n"
     ]
    }
   ],
   "source": [
    "theta , J_history = gradientDescent(initial_theta, X, y, 1, 0.2, 800)\n",
    "print(\"The regularized theta using ridge regression:\\n\",theta)"
   ]
  },
  {
   "cell_type": "code",
   "execution_count": 11,
   "id": "3dc8ae24",
   "metadata": {},
   "outputs": [
    {
     "data": {
      "text/plain": [
       "Text(0.5, 1.0, 'Cost function using Gradient Descent')"
      ]
     },
     "execution_count": 11,
     "metadata": {},
     "output_type": "execute_result"
    },
    {
     "data": {
      "image/png": "[encoded data removed]",
      "text/plain": [
       "<Figure size 432x288 with 1 Axes>"
      ]
     },
     "metadata": {
      "needs_background": "light"
     },
     "output_type": "display_data"
    }
   ],
   "source": [
    "plt.plot(J_history)\n",
    "plt.xlabel(\"Iteration\")\n",
    "plt.ylabel(\"$J(\\Theta)$\")\n",
    "plt.title(\"Cost function using Gradient Descent\")"
   ]
  },
  {
   "cell_type": "markdown",
   "id": "0c830f90",
   "metadata": {},
   "source": [
    "**DECISION BOUNDARY**"
   ]
  },
  {
   "cell_type": "code",
   "execution_count": 12,
   "id": "baa74d45",
   "metadata": {},
   "outputs": [
    {
     "data": {
      "text/plain": [
       "<matplotlib.legend.Legend at 0x1f018f42c70>"
      ]
     },
     "execution_count": 12,
     "metadata": {},
     "output_type": "execute_result"
    },
    {
     "data": {
      "image/png": "[encoded data removed]",
      "text/plain": [
       "<Figure size 432x288 with 1 Axes>"
      ]
     },
     "metadata": {
      "needs_background": "light"
     },
     "output_type": "display_data"
    }
   ],
   "source": [
    "def mapFeaturePlot(x1, x2, degree):\n",
    "    out = np.ones(1)\n",
    "    for i in range(1, degree+1):\n",
    "        for j in range(i+1):\n",
    "            poly_feature = (x1 ** (i-j) * x2 ** j)\n",
    "            out = np.hstack((out, poly_feature))\n",
    "    return out\n",
    "\n",
    "\n",
    "raw_X = data.values[:, :-1]\n",
    "raw_y = data.values[:, -1]\n",
    "plt.scatter(raw_X[pos[:, 0], 0], raw_X[pos[:, 0], 1], c='b', marker='o', s=10, label=\"Accepted\")\n",
    "plt.scatter(raw_X[neg[:, 0], 0], raw_X[neg[:, 0], 1], c='r', marker='x', alpha=0.5, label=\"Rejected\")\n",
    "\n",
    "u_vals = np.linspace(-1, 1.5, 50)\n",
    "v_vals = np.linspace(-1, 1.5, 50)\n",
    "z = np.zeros((len(u_vals), len(v_vals)))\n",
    "for i in range(len(u_vals)):\n",
    "    for j in range(len(v_vals)):\n",
    "        z[i,j] = mapFeaturePlot(u_vals[i], v_vals[j], 6) @ theta\n",
    "\n",
    "plt.contour(u_vals,v_vals,z.T,0)\n",
    "\n",
    "plt.xlabel(\"Test 1\")\n",
    "plt.ylabel(\"Test 2\")\n",
    "\n",
    "plt.legend([\"Accepted\", \"Rejected\"], loc=0)"
   ]
  },
  {
   "cell_type": "markdown",
   "id": "bb14a81e",
   "metadata": {},
   "source": [
    "**ACCURACY**"
   ]
  },
  {
   "cell_type": "code",
   "execution_count": 13,
   "id": "c7c6cd0c",
   "metadata": {},
   "outputs": [
    {
     "name": "stdout",
     "output_type": "stream",
     "text": [
      "Train Accuracy: 86.4406779661017 %\n"
     ]
    }
   ],
   "source": [
    "def predict(theta, X):\n",
    "    predictions = X@theta\n",
    "    return sigmoid(predictions) >= 0.55\n",
    "\n",
    "p = predict(theta, X)\n",
    "print(\"Train Accuracy:\", (sum(p==y[:,np.newaxis])/len(y) *100)[0],\"%\")"
   ]
  }
 ],
 "metadata": {
  "kernelspec": {
   "display_name": "Python 3",
   "language": "python",
   "name": "python3"
  },
  "language_info": {
   "codemirror_mode": {
    "name": "ipython",
    "version": 3
   },
   "file_extension": ".py",
   "mimetype": "text/x-python",
   "name": "python",
   "nbconvert_exporter": "python",
   "pygments_lexer": "ipython3",
   "version": "3.9.4"
  }
 },
 "nbformat": 4,
 "nbformat_minor": 5
}
